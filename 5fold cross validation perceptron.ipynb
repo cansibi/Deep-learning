{
 "cells": [
  {
   "cell_type": "code",
   "execution_count": 29,
   "metadata": {},
   "outputs": [
    {
     "name": "stdout",
     "output_type": "stream",
     "text": [
      "Accuracy: 0.6993464052287581\n",
      "weight: [ 7551.1     1699.6    -4672.3     -747.5      -43.8     2575.38\n",
      "   455.2207  -204.     -1720.6   ]\n"
     ]
    }
   ],
   "source": [
    "import csv\n",
    "import numpy as np\n",
    "import pandas as pd\n",
    "from sklearn.model_selection import StratifiedKFold\n",
    "from sklearn import metrics\n",
    "def SumForXY(X,Y,w):\n",
    "    Sumw=np.array([0,0,0,0,0,0,0,0,0])\n",
    "    for i in range(len(X)):\n",
    "        O=np.dot(X[i],w)\n",
    "        if (Y[i]*O+b)<0:\n",
    "            z=1\n",
    "        else:\n",
    "            z=0\n",
    "        Sumw=Sumw+z*X[i]*Y[i]\n",
    "    return Sumw\n",
    "def train(n,T,w,X,Y,AccuracyMax):\n",
    "   #n=step size, T= #iter T\n",
    "    for t in range(T):\n",
    "        Sw=SumForXY(X,Y,w)\n",
    "        w=w+n*Sw\n",
    "        count=0\n",
    "        for i in range(len(X)):\n",
    "            y=np.sign(np.dot(X[i],w))\n",
    "            if Y[i]==y:\n",
    "                count+=1\n",
    "        accuracy=count/len(Y)\n",
    "        if accuracy>AccuracyMax:\n",
    "            AccuracyMax=accuracy\n",
    "            wfinal=w\n",
    "    return wfinal,AccuracyMax\n",
    "def test(X):\n",
    "    Y=[]\n",
    "    for i in range(len(X)):\n",
    "        y=np.sign(np.dot(X[i],final[0]))\n",
    "        Y.append(y)\n",
    "    return Y\n",
    "\n",
    "data=pd.read_csv('diabetes.csv')\n",
    "headers = list(data.columns.values)\n",
    "X = data.values[:,:-1]\n",
    "Y = data[headers[-1:]].values.ravel()\n",
    "a=np.array([1]*768)\n",
    "X=np.c_[X,a.T]\n",
    "w=np.array([0.1,0.1,0.1,0.1,0.1,0.1,0.1,0.1,1])\n",
    "#k-fold cross validation\n",
    "for a in range(768):\n",
    "    Y[a]=float(Y[a])\n",
    "    if Y[a]==0.0:\n",
    "        Y[a]=-1.0\n",
    "kcv = StratifiedKFold(n_splits=5)\n",
    "PredictedY=[]\n",
    "ActuralY=[]\n",
    "Accuracymax=0\n",
    "for TrainIndex,TestIndex in kcv.split(X,Y):\n",
    "    TrainX,TestX=X[TrainIndex], X[TestIndex]\n",
    "    TrainY,TestY=Y[TrainIndex], Y[TestIndex]\n",
    "    final=train(0.1,1000,w,TrainX,TrainY,0)\n",
    "    PredictedY.extend(test(TestX))\n",
    "    ActuralY.extend(TestY)\n",
    "    accuracy = metrics.accuracy_score(ActuralY, PredictedY)\n",
    "    if accuracy>Accuracymax:\n",
    "            Accuracymax=accuracy\n",
    "            finalw=final[0]\n",
    "    PredictedY=[]\n",
    "    ActuralY=[]\n",
    "print(\"Accuracy: \" + Accuracymax.__str__())\n",
    "print('weight:',finalw)"
   ]
  },
  {
   "cell_type": "code",
   "execution_count": null,
   "metadata": {},
   "outputs": [],
   "source": []
  }
 ],
 "metadata": {
  "kernelspec": {
   "display_name": "Python 3",
   "language": "python",
   "name": "python3"
  },
  "language_info": {
   "codemirror_mode": {
    "name": "ipython",
    "version": 3
   },
   "file_extension": ".py",
   "mimetype": "text/x-python",
   "name": "python",
   "nbconvert_exporter": "python",
   "pygments_lexer": "ipython3",
   "version": "3.8.3"
  }
 },
 "nbformat": 4,
 "nbformat_minor": 4
}
