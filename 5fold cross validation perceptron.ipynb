{
 "cells": [
  {
   "cell_type": "code",
   "execution_count": 9,
   "metadata": {},
   "outputs": [
    {
     "name": "stdout",
     "output_type": "stream",
     "text": [
      "Accuracy: 0.6928104575163399\n"
     ]
    }
   ],
   "source": [
    "import csv\n",
    "import numpy as np\n",
    "import pandas as pd\n",
    "from sklearn.model_selection import StratifiedKFold\n",
    "from sklearn import metrics\n",
    "\n",
    "def SumForXY(X,Y,w,b):\n",
    "    Sumw=np.array([0,0,0,0,0,0,0,0])\n",
    "    Sumb=0\n",
    "    for i in range(len(X)):\n",
    "        O=np.dot(X[i],w)\n",
    "        if (Y[i]*O+b)<0:\n",
    "            z=1\n",
    "        else:\n",
    "            z=0\n",
    "        Sumw=Sumw+z*X[i]*Y[i]\n",
    "        Sumb=Sumb+z*Y[i]\n",
    "    return Sumw,Sumb\n",
    "def train(n,T,w,b,X,Y,AccuracyMax):\n",
    "   #n=step size, T= #iter T\n",
    "    for t in range(T):\n",
    "        Sw,Sb=SumForXY(X,Y,w,b)[0],SumForXY(X,Y,w,b)[1]\n",
    "        w=w+n*Sw\n",
    "        b=b+n*Sb\n",
    "        count=0\n",
    "        for i in range(len(X)):\n",
    "            y=np.sign(np.dot(X[i],w)+b)\n",
    "            if Y[i]==y:\n",
    "                count+=1\n",
    "        accuracy=count/len(Y)\n",
    "        if accuracy>AccuracyMax:\n",
    "            AccuracyMax=accuracy\n",
    "            wfinal=w\n",
    "            bfinal=b\n",
    "    return wfinal,bfinal,AccuracyMax\n",
    "def test(X):\n",
    "    Y=[]\n",
    "    for i in range(len(X)):\n",
    "        y=np.sign(np.dot(X[i],final[0])+final[1])\n",
    "        Y.append(y)\n",
    "    return Y\n",
    "\n",
    "data=pd.read_csv('diabetes.csv')\n",
    "headers = list(data.columns.values)\n",
    "X = data.values[:,:-1]\n",
    "Y = data[headers[-1:]].values.ravel()\n",
    "\n",
    "w=np.array([0.1,0.1,0.1,0.1,0.1,0.1,0.1,0.1])\n",
    "b=1\n",
    "#k-fold cross validation\n",
    "for a in range(768):\n",
    "    Y[a]=float(Y[a])\n",
    "    if Y[a]==0.0:\n",
    "        Y[a]=-1.0\n",
    "kcv = StratifiedKFold(n_splits=5)\n",
    "PredictedY=[]\n",
    "ActuralY=[]\n",
    "Accuracymax=0\n",
    "for TrainIndex,TestIndex in kcv.split(X,Y):\n",
    "    TrainX,TestX=X[TrainIndex], X[TestIndex]\n",
    "    TrainY,TestY=Y[TrainIndex], Y[TestIndex]\n",
    "    final=train(0.1,1000,w,b,TrainX,TrainY,0)\n",
    "    PredictedY.extend(test(TestX))\n",
    "    ActuralY.extend(TestY)\n",
    "    accuracy = metrics.accuracy_score(ActuralY, PredictedY)\n",
    "    if accuracy>Accuracymax:\n",
    "            Accuracymax=accuracy\n",
    "    PredictedY=[]\n",
    "    ActuralY=[]\n",
    "print(\"Accuracy: \" + Accuracymax.__str__())"
   ]
  },
  {
   "cell_type": "code",
   "execution_count": 8,
   "metadata": {},
   "outputs": [
    {
     "data": {
      "text/plain": [
       "numpy.int64"
      ]
     },
     "execution_count": 8,
     "metadata": {},
     "output_type": "execute_result"
    }
   ],
   "source": [
    "import numpy as np  \n",
    "from sklearn.metrics import accuracy_score  \n",
    "y_pred = [0, 2, 1, 3]  \n",
    "y_true = [0, 1, 2, 3]  \n",
    "accuracy_score(y_true, y_pred)  \n",
    "accuracy_score(y_true, y_pred, normalize=False)  \n",
    "type(accuracy_score(y_true, y_pred, normalize=False))"
   ]
  }
 ],
 "metadata": {
  "kernelspec": {
   "display_name": "Python 3",
   "language": "python",
   "name": "python3"
  },
  "language_info": {
   "codemirror_mode": {
    "name": "ipython",
    "version": 3
   },
   "file_extension": ".py",
   "mimetype": "text/x-python",
   "name": "python",
   "nbconvert_exporter": "python",
   "pygments_lexer": "ipython3",
   "version": "3.8.3"
  }
 },
 "nbformat": 4,
 "nbformat_minor": 4
}
